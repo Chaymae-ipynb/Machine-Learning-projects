{
 "cells": [
  {
   "cell_type": "markdown",
   "id": "5059598f-b374-4f86-9849-dbf2be9d2768",
   "metadata": {},
   "source": [
    "# Predicting and understanding viewer engagement with educational videos \n",
    "\n",
    "##### *This project is an assignment that was submitted as a final deliverable and underwent peer review as part of my previous data science education program.* \n",
    "\n",
    "As the popularity of online education continues to grow, Open-access educational platforms like Massive Open Online Courses (MOOCs) on sites such as Coursera have made a vast array of lectures and tutorials accessible to millions globally, myself included and the specialization programs have led me to great learning opportunities. \n",
    "However, I figured that this abundance of content also presents a challenge in effectively finding, filtering, and aligning these resources with learner needs so I believe that this project shows how machine learning can be applied to tackle aspects of this challenge.\n",
    "\n",
    "## About the prediction problem\n",
    "\n",
    "Engagement is a key attribute of educational videos: how engaging it is to keep viewers interested enough to continue watching. Typically, engagement can be assessed by observing how much of a video a viewer completes. A video that fails to capture interest often sees viewers dropping off early, sometimes after viewing as little as 5 or 10% of the total content.\n",
    "To enhance the relevance and impact of educational materials, it's essential to identify the characteristics that make videos engaging. In this project, I will be predicting the potential engagement level of educational videos. This prediction will be based on various features derived from the video's transcript, audio, hosting platform, and other relevant sources.\n",
    "\n",
    "**This prediction problem was chosen for several reasons:**\n",
    "\n",
    "* It uses different features pulled from a wide range of resources connected to the original data;\n",
    "* Predicting how popular or engaging a media item will be, is not only fun but also a practical way to use machine learning in business and education.\n",
    "* *Drawing from my background in marketing, I'm particularly interested in the dynamics of viewer engagement and I wanted to explore this area from a quantitative aspect after working in its creative aspect.*\n",
    "\n",
    "\n",
    "## About the dataset\n",
    "\n",
    "The training and test datasets of educational video features were extracted from the VLE Dataset put together by researcher Sahan Bulathwela at University College London. \n",
    "\n",
    "**Data fields**\n",
    "\n",
    "train.csv & test.csv:\n",
    "\n",
    "    title_word_count - the number of words in the title of the video.\n",
    " \n",
    "    document_entropy - a score indicating how varied the topics are covered in the video, based on the transcript. Videos with smaller entropy scores will tend to be more cohesive and more focused on a single topic.\n",
    "    \n",
    "    freshness - The number of days elapsed between 01/01/1970 and the lecture published date. Videos that are more recent will have higher freshness values.\n",
    "    \n",
    "    easiness - A text difficulty measure applied to the transcript. A lower score indicates more complex language used by the presenter.\n",
    "    \n",
    "    fraction_stopword_presence - A stopword is a very common word like 'the' or 'and'. This feature computes the fraction of all words that are stopwords in the video lecture transcript.\n",
    "    \n",
    "    speaker_speed - The average speaking rate in words per minute of the presenter in the video.\n",
    "    \n",
    "    silent_period_rate - The fraction of time in the lecture video that is silence (no speaking).\n",
    "    \n",
    "train.csv only:\n",
    "    \n",
    "    engagement - Target label for training. True if learners watched a substantial portion of the video, or False otherwise."
   ]
  },
  {
   "cell_type": "code",
   "execution_count": 6,
   "id": "4726d319-db5b-4258-9aae-7bfd6d2063ab",
   "metadata": {},
   "outputs": [],
   "source": [
    "import os\n",
    "import pandas as pd\n",
    "import numpy as np\n",
    "import matplotlib.pyplot as plt\n",
    "\n",
    "np.random.seed(0)"
   ]
  },
  {
   "cell_type": "markdown",
   "id": "cef8ccdd-4f9c-4984-99d9-067a2bcf58f8",
   "metadata": {},
   "source": [
    "##### *Note* : Data has already been pre-processed "
   ]
  },
  {
   "cell_type": "code",
   "execution_count": 7,
   "id": "1139bd49-13d1-43cb-bf2d-8046012ea1c5",
   "metadata": {},
   "outputs": [
    {
     "name": "stdout",
     "output_type": "stream",
     "text": [
      "AUC: 0.9167573866511293\n"
     ]
    },
    {
     "data": {
      "text/plain": [
       "id\n",
       "9240     0.005564\n",
       "9241     0.052062\n",
       "9242     0.109866\n",
       "9243     0.994145\n",
       "9244     0.009299\n",
       "           ...   \n",
       "11544    0.018105\n",
       "11545    0.006722\n",
       "11546    0.008235\n",
       "11547    0.947274\n",
       "11548    0.011952\n",
       "Name: engagement, Length: 2309, dtype: float64"
      ]
     },
     "execution_count": 7,
     "metadata": {},
     "output_type": "execute_result"
    }
   ],
   "source": [
    "def engagement_model():\n",
    "    rec = None\n",
    "    \n",
    "    from sklearn.ensemble import GradientBoostingClassifier\n",
    "    from sklearn.metrics import r2_score, mean_absolute_error, roc_auc_score\n",
    "    \n",
    "    traindf = pd.read_csv('assets/train.csv',index_col='id')\n",
    "    testdf = pd.read_csv('assets/test.csv',index_col='id')\n",
    "    \n",
    "    X_train = traindf.drop('engagement', axis=1)\n",
    "    end = round(len(X_train) * 0.1)\n",
    "    X_val = X_train[0:end]\n",
    "    y_train = traindf['engagement']\n",
    "    y_val = y_train[0:end]\n",
    "    X_test = testdf\n",
    "    \n",
    "    model = GradientBoostingClassifier(n_estimators=170, learning_rate=0.14, random_state=42)\n",
    "    \n",
    "    model.fit(X_train[end:], y_train[end:])\n",
    "    \n",
    "    y_pred = model.predict_proba(X_val)[:, 1]  # Probability of class 1\n",
    "    \n",
    "    r2 = r2_score(y_val, y_pred)\n",
    "    mae = mean_absolute_error(y_val, y_pred)\n",
    "    auc_score = roc_auc_score(y_val, y_pred)\n",
    "\n",
    "    print(\"AUC:\", auc_score)\n",
    "    \n",
    "    y_test = model.predict_proba(X_test)[:, 1]  # Probability of class 1\n",
    "    \n",
    "    testdf['engagement'] = y_test\n",
    "    \n",
    "    rec = testdf['engagement']\n",
    "    \n",
    "    return rec\n",
    "\n",
    "model = engagement_model()\n",
    "model\n"
   ]
  },
  {
   "cell_type": "code",
   "execution_count": 8,
   "id": "dddf21ea-d0d3-473f-af43-43a132d411e7",
   "metadata": {},
   "outputs": [
    {
     "name": "stdout",
     "output_type": "stream",
     "text": [
      "Average AUC across 5 folds: 0.8834325774237286\n"
     ]
    }
   ],
   "source": [
    "from sklearn.ensemble import GradientBoostingClassifier\n",
    "from sklearn.model_selection import cross_val_score\n",
    "\n",
    "traindf = pd.read_csv('assets/train.csv',index_col='id')\n",
    "testdf = pd.read_csv('assets/test.csv',index_col='id')\n",
    "\n",
    "X_train = traindf.drop('engagement', axis=1)\n",
    "end = round(len(X_train) * 0.1)\n",
    "X_val = X_train[0:end]\n",
    "y_train = traindf['engagement']\n",
    "y_val = y_train[0:end]\n",
    "X_test = testdf\n",
    "\n",
    "model = GradientBoostingClassifier(n_estimators=100, learning_rate=0.1, random_state=42)\n",
    "scores = cross_val_score(model, X_train, y_train, cv=5, scoring='roc_auc')\n",
    "print(\"Average AUC across 5 folds:\", scores.mean())"
   ]
  },
  {
   "cell_type": "markdown",
   "id": "42d3938e-392f-4e6c-b093-9a437a36310c",
   "metadata": {},
   "source": [
    "## Feature Importance"
   ]
  },
  {
   "cell_type": "code",
   "execution_count": 9,
   "id": "d73b20ea-e638-4cb2-9ba0-dd8539fa496c",
   "metadata": {},
   "outputs": [
    {
     "data": {
      "image/png": "[encoded data removed]",
      "text/plain": [
       "<Figure size 640x480 with 1 Axes>"
      ]
     },
     "metadata": {},
     "output_type": "display_data"
    }
   ],
   "source": [
    "model.fit(X_train, y_train)\n",
    "feature_importances = model.feature_importances_\n",
    "plt.barh(range(len(feature_importances)), feature_importances, align='center')\n",
    "plt.yticks(np.arange(len(X_train.columns)), X_train.columns)\n",
    "plt.xlabel('Feature Importance')\n",
    "plt.ylabel('Feature')\n",
    "plt.show()"
   ]
  },
  {
   "cell_type": "markdown",
   "id": "563601be-59c1-4689-829b-60685e7cd3c6",
   "metadata": {},
   "source": [
    "## We can conclude the following :\n",
    "* **Highest impact** : Document Entropy is the most important feature; suggesting that a more targeted discussion, is highly valued and engaging.\n",
    "* **Moderate impact** : a higher proportion of common words (stopwords) might simplify the text which would make it easier for viewers to follow along the video.\n",
    "* **Lowest impact** : while the title's length might influence first clicks or viewer interest, it does not impact whether viewers stay engaged throughout the video."
   ]
  },
  {
   "cell_type": "markdown",
   "id": "f2035de2-d4aa-4ca2-a66b-405b697862b5",
   "metadata": {},
   "source": [
    "### Limitations\n",
    "\n",
    "* Some features might inadvertently introduce bias, skewing the model's predictions. For instance, if 'freshness' heavily influences predictions, newer content is always favored regardless of quality.\n",
    "* Models like Gradient Boosting can be considered as a \"black box,\" and it's difficult to understand exactly why a specific prediction is made because as the number of trees increases, tracing how input features led to a prediction becomes increasingly complex.\n",
    "\n",
    "##### *To further enhance this analysis and address these limitations, I  welcome any feedback or insights you may have.*\n",
    "\n",
    "### In Practice:\n",
    "* **Content Strategy** : the model's insights can be used to help content creators in choosing optimal video features, such as ideal title length and necessary content focus, to enhance viewer engagement.\n",
    "* **Recommendation Systems Improvement** : the  engagement predictions can be incorporated into a platform's recommendation algorithms to push more engaging content to users\n",
    "* **Interactive suggestions** : For example,if we deploy this model into a dynamic system in the platform and if the uploaded video’s document entropy is too high ( the content is too scattered), the system could suggest narrowing the focus or dividing the content into more digestible modules. It's like providing instant feedback on how engaging the video is likely to be based on current content."
   ]
  },
  {
   "cell_type": "markdown",
   "id": "93e11b0b-c46f-4a40-a6f6-633eea1da1cc",
   "metadata": {},
   "source": [
    "**Thank You for Reviewing This Project**\n",
    "\n",
    "I appreciate you taking the time to go through my work. Please feel free to reach out if you have any questions, suggestions, or would like to discuss any aspects of this project further.\n",
    "\n",
    "Best Regards,\n",
    "\n",
    "Chaymae\n",
    "##### *Chaymaejawhar@gmail.com*"
   ]
  },
  {
   "cell_type": "code",
   "execution_count": null,
   "id": "6368b850-4b71-4a94-8164-ebfc1122c588",
   "metadata": {},
   "outputs": [],
   "source": []
  }
 ],
 "metadata": {
  "kernelspec": {
   "display_name": "Python 3 (ipykernel)",
   "language": "python",
   "name": "python3"
  },
  "language_info": {
   "codemirror_mode": {
    "name": "ipython",
    "version": 3
   },
   "file_extension": ".py",
   "mimetype": "text/x-python",
   "name": "python",
   "nbconvert_exporter": "python",
   "pygments_lexer": "ipython3",
   "version": "3.9.13"
  }
 },
 "nbformat": 4,
 "nbformat_minor": 5
}
